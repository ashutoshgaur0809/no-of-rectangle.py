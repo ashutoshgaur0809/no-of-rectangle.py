{
 "cells": [
  {
   "cell_type": "code",
   "execution_count": 2,
   "id": "5dfaf8ce",
   "metadata": {},
   "outputs": [
    {
     "name": "stdout",
     "output_type": "stream",
     "text": [
      "Enter no test csesde= 2\n",
      "Enter value of i = 2\n",
      "Enter value of j = 2\n",
      "grid is =  9\n",
      "Enter value of i = 4\n",
      "Enter value of j = 5\n",
      "grid is =  19\n"
     ]
    }
   ],
   "source": [
    "T = int(input(\"Enter no test csesde= \"))\n",
    "flag = 0\n",
    "for i in range(T):\n",
    "    i = int(input(\"Enter value of i = \"))\n",
    "    j = int(input(\"Enter value of j = \"))\n",
    "    if(i == 0 and j == 0):\n",
    "        flag=0\n",
    "        print(\"no of grid\",flag)\n",
    "    elif(i==0 and i==1):\n",
    "         if(j==0 and j==1):\n",
    "            flag=1\n",
    "            print(\"the no of grid=\",flag)\n",
    "        \n",
    "    elif(i > 1 and j > 1):\n",
    "        i1 = 0\n",
    "        j1 = 0\n",
    "        for k in range(i):\n",
    "            i1=i1+1\n",
    "        for k in range(j):\n",
    "            j1 = j1 + 1\n",
    "        flag = i1*2 + j1*2 + 1\n",
    "        print(\"grid is = \",flag)\n",
    "        \n",
    "            \n",
    "            \n",
    "            \n",
    "        "
   ]
  },
  {
   "cell_type": "code",
   "execution_count": 3,
   "id": "34882a77",
   "metadata": {},
   "outputs": [
    {
     "name": "stdout",
     "output_type": "stream",
     "text": [
      "Enter no. of test cases=2\n",
      "Enter value of i=2\n",
      "Enter value of j=2\n",
      "5\n",
      "Enter value of i=4\n",
      "Enter value of j=5\n",
      "130\n"
     ]
    }
   ],
   "source": [
    "T = int(input(\"Enter no. of test cases=\"))\n",
    "for i in range(T):\n",
    "    i = int(input(\"Enter value of i=\"))\n",
    "    j = int(input(\"Enter value of j=\"))\n",
    "    ts=(i+1)*i*j*(j+1)/4\n",
    "    t=int(ts-(i*j))\n",
    "    print(t)"
   ]
  },
  {
   "cell_type": "code",
   "execution_count": null,
   "id": "3ab762e5",
   "metadata": {},
   "outputs": [],
   "source": []
  }
 ],
 "metadata": {
  "kernelspec": {
   "display_name": "Python 3 (ipykernel)",
   "language": "python",
   "name": "python3"
  },
  "language_info": {
   "codemirror_mode": {
    "name": "ipython",
    "version": 3
   },
   "file_extension": ".py",
   "mimetype": "text/x-python",
   "name": "python",
   "nbconvert_exporter": "python",
   "pygments_lexer": "ipython3",
   "version": "3.11.1"
  }
 },
 "nbformat": 4,
 "nbformat_minor": 5
}
